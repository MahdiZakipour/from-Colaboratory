{
  "cells": [
    {
      "cell_type": "markdown",
      "metadata": {
        "id": "view-in-github",
        "colab_type": "text"
      },
      "source": [
        "<a href=\"https://colab.research.google.com/github/MahdiZakipour/from-Colaboratory/blob/main/A_to_Z_STAR_MSc_THESIS_Classification_for_Regime_powered_by_PROCESSED_COMSOL_data_All_3_Methods_Final_Project.ipynb\" target=\"_parent\"><img src=\"https://colab.research.google.com/assets/colab-badge.svg\" alt=\"Open In Colab\"/></a>"
      ]
    },
    {
      "cell_type": "code",
      "execution_count": null,
      "id": "1faaaa5a",
      "metadata": {
        "id": "1faaaa5a",
        "outputId": "4b9f3c6f-1e07-46ee-8113-f07db8d8bdf8"
      },
      "outputs": [
        {
          "data": {
            "text/plain": [
              "'D:\\\\Learning\\\\Deep Learning A-Z course - my files\\\\Section 8 Deep Learning\\\\Deep Learning for Droplet D by  Comsol'"
            ]
          },
          "execution_count": 1,
          "metadata": {},
          "output_type": "execute_result"
        }
      ],
      "source": [
        "# worked\n",
        "# show working directory\n",
        "import os\n",
        "#os.getcwd()\n",
        "os.chdir('D:\\Learning\\Deep Learning A-Z course - my files\\Section 8 Deep Learning\\Deep Learning for Droplet D by  Comsol')\n",
        "os.getcwd()\n"
      ]
    },
    {
      "cell_type": "code",
      "execution_count": null,
      "id": "59fb319a",
      "metadata": {
        "id": "59fb319a",
        "outputId": "f2771b3e-5d19-4052-837e-8dbd7050fe1c"
      },
      "outputs": [
        {
          "data": {
            "text/html": [
              "<div>\n",
              "<style scoped>\n",
              "    .dataframe tbody tr th:only-of-type {\n",
              "        vertical-align: middle;\n",
              "    }\n",
              "\n",
              "    .dataframe tbody tr th {\n",
              "        vertical-align: top;\n",
              "    }\n",
              "\n",
              "    .dataframe thead th {\n",
              "        text-align: right;\n",
              "    }\n",
              "</style>\n",
              "<table border=\"1\" class=\"dataframe\">\n",
              "  <thead>\n",
              "    <tr style=\"text-align: right;\">\n",
              "      <th></th>\n",
              "      <th>v_disp_horiz</th>\n",
              "      <th>v_cont_vert</th>\n",
              "      <th>miu_disp</th>\n",
              "      <th>miu_cont</th>\n",
              "      <th>surface_t</th>\n",
              "      <th>d</th>\n",
              "      <th>f</th>\n",
              "      <th>Ca_disp</th>\n",
              "      <th>Re_disp</th>\n",
              "      <th>Q_rel</th>\n",
              "      <th>Miu_rel</th>\n",
              "      <th>Ca*d - new Feature</th>\n",
              "      <th>Catg</th>\n",
              "      <th>new Regime Class</th>\n",
              "    </tr>\n",
              "  </thead>\n",
              "  <tbody>\n",
              "    <tr>\n",
              "      <th>10</th>\n",
              "      <td>0.25</td>\n",
              "      <td>2</td>\n",
              "      <td>1.95</td>\n",
              "      <td>59.2</td>\n",
              "      <td>1.00</td>\n",
              "      <td>0.12</td>\n",
              "      <td>22.222222</td>\n",
              "      <td>0.487500</td>\n",
              "      <td>0.128205</td>\n",
              "      <td>0.125</td>\n",
              "      <td>0.032939</td>\n",
              "      <td>4.062500</td>\n",
              "      <td>1</td>\n",
              "      <td>drip</td>\n",
              "    </tr>\n",
              "    <tr>\n",
              "      <th>11</th>\n",
              "      <td>0.25</td>\n",
              "      <td>2</td>\n",
              "      <td>1.95</td>\n",
              "      <td>59.2</td>\n",
              "      <td>6.00</td>\n",
              "      <td>0.28</td>\n",
              "      <td>6.060606</td>\n",
              "      <td>0.081250</td>\n",
              "      <td>0.128205</td>\n",
              "      <td>0.125</td>\n",
              "      <td>0.032939</td>\n",
              "      <td>0.290179</td>\n",
              "      <td>1</td>\n",
              "      <td>squeez</td>\n",
              "    </tr>\n",
              "    <tr>\n",
              "      <th>12</th>\n",
              "      <td>0.25</td>\n",
              "      <td>2</td>\n",
              "      <td>1.95</td>\n",
              "      <td>59.2</td>\n",
              "      <td>9.00</td>\n",
              "      <td>0.36</td>\n",
              "      <td>4.597701</td>\n",
              "      <td>0.054167</td>\n",
              "      <td>0.128205</td>\n",
              "      <td>0.125</td>\n",
              "      <td>0.032939</td>\n",
              "      <td>0.150463</td>\n",
              "      <td>1</td>\n",
              "      <td>squeez</td>\n",
              "    </tr>\n",
              "    <tr>\n",
              "      <th>13</th>\n",
              "      <td>0.25</td>\n",
              "      <td>2</td>\n",
              "      <td>1.95</td>\n",
              "      <td>59.2</td>\n",
              "      <td>1.66</td>\n",
              "      <td>0.10</td>\n",
              "      <td>19.047619</td>\n",
              "      <td>0.293675</td>\n",
              "      <td>0.128205</td>\n",
              "      <td>0.125</td>\n",
              "      <td>0.032939</td>\n",
              "      <td>2.936747</td>\n",
              "      <td>1</td>\n",
              "      <td>drip</td>\n",
              "    </tr>\n",
              "    <tr>\n",
              "      <th>14</th>\n",
              "      <td>0.66</td>\n",
              "      <td>2</td>\n",
              "      <td>1.95</td>\n",
              "      <td>59.2</td>\n",
              "      <td>5.00</td>\n",
              "      <td>0.34</td>\n",
              "      <td>20.000000</td>\n",
              "      <td>0.257400</td>\n",
              "      <td>0.338462</td>\n",
              "      <td>0.330</td>\n",
              "      <td>0.032939</td>\n",
              "      <td>0.757059</td>\n",
              "      <td>3</td>\n",
              "      <td>drip</td>\n",
              "    </tr>\n",
              "    <tr>\n",
              "      <th>15</th>\n",
              "      <td>0.40</td>\n",
              "      <td>2</td>\n",
              "      <td>1.95</td>\n",
              "      <td>59.2</td>\n",
              "      <td>5.00</td>\n",
              "      <td>0.32</td>\n",
              "      <td>21.333333</td>\n",
              "      <td>0.156000</td>\n",
              "      <td>0.205128</td>\n",
              "      <td>0.200</td>\n",
              "      <td>0.032939</td>\n",
              "      <td>0.487500</td>\n",
              "      <td>3</td>\n",
              "      <td>squeez</td>\n",
              "    </tr>\n",
              "    <tr>\n",
              "      <th>16</th>\n",
              "      <td>0.25</td>\n",
              "      <td>2</td>\n",
              "      <td>1.95</td>\n",
              "      <td>59.2</td>\n",
              "      <td>5.00</td>\n",
              "      <td>0.48</td>\n",
              "      <td>7.017544</td>\n",
              "      <td>0.097500</td>\n",
              "      <td>0.128205</td>\n",
              "      <td>0.125</td>\n",
              "      <td>0.032939</td>\n",
              "      <td>0.203125</td>\n",
              "      <td>3</td>\n",
              "      <td>squeez</td>\n",
              "    </tr>\n",
              "    <tr>\n",
              "      <th>17</th>\n",
              "      <td>1.00</td>\n",
              "      <td>2</td>\n",
              "      <td>1.95</td>\n",
              "      <td>59.2</td>\n",
              "      <td>5.00</td>\n",
              "      <td>0.42</td>\n",
              "      <td>13.333333</td>\n",
              "      <td>0.390000</td>\n",
              "      <td>0.512821</td>\n",
              "      <td>0.500</td>\n",
              "      <td>0.032939</td>\n",
              "      <td>0.928571</td>\n",
              "      <td>3</td>\n",
              "      <td>drip</td>\n",
              "    </tr>\n",
              "    <tr>\n",
              "      <th>18</th>\n",
              "      <td>1.50</td>\n",
              "      <td>2</td>\n",
              "      <td>1.95</td>\n",
              "      <td>59.2</td>\n",
              "      <td>5.00</td>\n",
              "      <td>0.46</td>\n",
              "      <td>16.666667</td>\n",
              "      <td>0.585000</td>\n",
              "      <td>0.769231</td>\n",
              "      <td>0.750</td>\n",
              "      <td>0.032939</td>\n",
              "      <td>1.271739</td>\n",
              "      <td>3</td>\n",
              "      <td>drip</td>\n",
              "    </tr>\n",
              "    <tr>\n",
              "      <th>19</th>\n",
              "      <td>0.25</td>\n",
              "      <td>2</td>\n",
              "      <td>59.20</td>\n",
              "      <td>59.2</td>\n",
              "      <td>5.00</td>\n",
              "      <td>0.28</td>\n",
              "      <td>6.944444</td>\n",
              "      <td>2.960000</td>\n",
              "      <td>0.004223</td>\n",
              "      <td>0.125</td>\n",
              "      <td>1.000000</td>\n",
              "      <td>10.571429</td>\n",
              "      <td>2</td>\n",
              "      <td>jet</td>\n",
              "    </tr>\n",
              "  </tbody>\n",
              "</table>\n",
              "</div>"
            ],
            "text/plain": [
              "    v_disp_horiz  v_cont_vert  miu_disp  miu_cont  surface_t     d          f  \\\n",
              "10          0.25            2      1.95      59.2       1.00  0.12  22.222222   \n",
              "11          0.25            2      1.95      59.2       6.00  0.28   6.060606   \n",
              "12          0.25            2      1.95      59.2       9.00  0.36   4.597701   \n",
              "13          0.25            2      1.95      59.2       1.66  0.10  19.047619   \n",
              "14          0.66            2      1.95      59.2       5.00  0.34  20.000000   \n",
              "15          0.40            2      1.95      59.2       5.00  0.32  21.333333   \n",
              "16          0.25            2      1.95      59.2       5.00  0.48   7.017544   \n",
              "17          1.00            2      1.95      59.2       5.00  0.42  13.333333   \n",
              "18          1.50            2      1.95      59.2       5.00  0.46  16.666667   \n",
              "19          0.25            2     59.20      59.2       5.00  0.28   6.944444   \n",
              "\n",
              "     Ca_disp   Re_disp  Q_rel   Miu_rel  Ca*d - new Feature  Catg  \\\n",
              "10  0.487500  0.128205  0.125  0.032939            4.062500     1   \n",
              "11  0.081250  0.128205  0.125  0.032939            0.290179     1   \n",
              "12  0.054167  0.128205  0.125  0.032939            0.150463     1   \n",
              "13  0.293675  0.128205  0.125  0.032939            2.936747     1   \n",
              "14  0.257400  0.338462  0.330  0.032939            0.757059     3   \n",
              "15  0.156000  0.205128  0.200  0.032939            0.487500     3   \n",
              "16  0.097500  0.128205  0.125  0.032939            0.203125     3   \n",
              "17  0.390000  0.512821  0.500  0.032939            0.928571     3   \n",
              "18  0.585000  0.769231  0.750  0.032939            1.271739     3   \n",
              "19  2.960000  0.004223  0.125  1.000000           10.571429     2   \n",
              "\n",
              "   new Regime Class  \n",
              "10             drip  \n",
              "11           squeez  \n",
              "12           squeez  \n",
              "13             drip  \n",
              "14             drip  \n",
              "15           squeez  \n",
              "16           squeez  \n",
              "17             drip  \n",
              "18             drip  \n",
              "19              jet  "
            ]
          },
          "execution_count": 171,
          "metadata": {},
          "output_type": "execute_result"
        }
      ],
      "source": [
        "# Import libraries necessary for this project\n",
        "import numpy as np\n",
        "import pandas as pd\n",
        "from sklearn.model_selection import ShuffleSplit\n",
        "\n",
        "# Load the dataset\n",
        "comsol_data = pd.read_csv('D:/Learning/Deep Learning A-Z course - my files/Section 8 Deep Learning/Deep Learning for Droplet D by  Comsol/Essentials Output#2- Processed with R - Comsol data for python.csv')\n",
        "comsol_data = comsol_data.drop('Unnamed: 0', axis = 1)\n",
        "\n",
        "#print(comsol_data)\n",
        "comsol_data.head()\n",
        "comsol_data[10:20]"
      ]
    },
    {
      "cell_type": "code",
      "execution_count": null,
      "id": "009e9525",
      "metadata": {
        "id": "009e9525"
      },
      "outputs": [],
      "source": [
        "x = comsol_data.iloc[:, 0:12].values\n",
        "y = comsol_data.iloc[:, 13].values"
      ]
    },
    {
      "cell_type": "code",
      "execution_count": null,
      "id": "43553d86",
      "metadata": {
        "id": "43553d86",
        "outputId": "21826063-575e-426b-f4bf-56e964fd27d5"
      },
      "outputs": [
        {
          "data": {
            "text/plain": [
              "array([[2.50000000e-01, 2.00000000e+00, 5.92000000e+01, 5.92000000e+01,\n",
              "        5.00000000e+00, 2.80000000e-01, 6.94444444e+00, 2.96000000e+00,\n",
              "        4.22297297e-03, 1.25000000e-01, 1.00000000e+00, 1.05714286e+01],\n",
              "       [2.50000000e-01, 2.00000000e+00, 1.18400000e+02, 5.92000000e+01,\n",
              "        5.00000000e+00, 1.20000000e-01, 8.33333333e+01, 5.92000000e+00,\n",
              "        2.11148649e-03, 1.25000000e-01, 2.00000000e+00, 4.93333333e+01],\n",
              "       [2.50000000e-01, 2.00000000e+00, 7.40000000e+01, 5.92000000e+01,\n",
              "        5.00000000e+00, 1.80000000e-01, 2.22222222e+01, 3.70000000e+00,\n",
              "        3.37837838e-03, 1.25000000e-01, 1.25000000e+00, 2.05555556e+01]])"
            ]
          },
          "execution_count": 153,
          "metadata": {},
          "output_type": "execute_result"
        }
      ],
      "source": [
        "x[0:3,:]\n",
        "# Encoding needed? NO, on X we don't need. BUT for Y, we need."
      ]
    },
    {
      "cell_type": "code",
      "execution_count": null,
      "id": "eba037e0",
      "metadata": {
        "id": "eba037e0",
        "outputId": "cf07a946-3ffb-43d6-9d05-034e21a9d7ae"
      },
      "outputs": [
        {
          "data": {
            "text/plain": [
              "array([[0., 1., 0.],\n",
              "       [0., 1., 0.],\n",
              "       [0., 1., 0.],\n",
              "       [0., 1., 0.],\n",
              "       [0., 1., 0.],\n",
              "       [0., 0., 1.]], dtype=float32)"
            ]
          },
          "execution_count": 154,
          "metadata": {},
          "output_type": "execute_result"
        }
      ],
      "source": [
        "# Encoding Categorical data - dummy ENCODING  - OneHotEncoding\n",
        "# to Encode Y :\n",
        "from sklearn.preprocessing import LabelEncoder, OneHotEncoder\n",
        "# encode class values as integers\n",
        "encoder = LabelEncoder()\n",
        "encoder.fit(y)\n",
        "encoded_y = encoder.transform(y)\n",
        "\n",
        "# convert integers to dummy variables (i.e. one hot encoded)\n",
        "from keras.utils import np_utils\n",
        "dummy_y = np_utils.to_categorical(encoded_y)\n",
        "dummy_y[0:6]\n",
        "\n",
        "# Avoiding dummy variable Trap\n",
        "##y_encoded = y_encoded[:, 1:]\n",
        "##print('y_encoded : \\n',y_encoded[0:7])"
      ]
    },
    {
      "cell_type": "code",
      "execution_count": null,
      "id": "6edb4b7c",
      "metadata": {
        "id": "6edb4b7c",
        "outputId": "bcfaef24-a21f-4822-f12a-a5afc90863c1"
      },
      "outputs": [
        {
          "name": "stdout",
          "output_type": "stream",
          "text": [
            "x_test : \n",
            " [[2.50000000e-01 2.00000000e+00 1.95000000e+00 5.92000000e+01\n",
            "  2.50000000e+00 1.00000000e-01 3.33333333e+01 1.95000000e-01\n",
            "  1.28205128e-01 1.25000000e-01 3.29391892e-02 1.95000000e+00]\n",
            " [2.50000000e-01 2.00000000e+00 1.95000000e+00 5.92000000e+01\n",
            "  1.66000000e+00 1.00000000e-01 1.90476191e+01 2.93674699e-01\n",
            "  1.28205128e-01 1.25000000e-01 3.29391892e-02 2.93674699e+00]\n",
            " [2.50000000e-01 2.00000000e+00 8.88000000e+01 5.92000000e+01\n",
            "  5.00000000e+00 2.00000000e-01 4.16666667e+01 4.44000000e+00\n",
            "  2.81531532e-03 1.25000000e-01 1.50000000e+00 2.22000000e+01]]\n",
            "y_test : \n",
            " [[1. 0. 0.]\n",
            " [1. 0. 0.]\n",
            " [0. 1. 0.]]\n"
          ]
        }
      ],
      "source": [
        "# Splitting the data into Test and Training set\n",
        "from sklearn.model_selection import train_test_split\n",
        "x_train, x_test, y_train, y_test = train_test_split(x, dummy_y, test_size = 0.3, shuffle = 'TRUE')\n",
        "print('x_test : \\n',x_test[0:3,:])\n",
        "print('y_test : \\n',y_test[0:3])"
      ]
    },
    {
      "cell_type": "code",
      "execution_count": null,
      "id": "c51e778f",
      "metadata": {
        "id": "c51e778f"
      },
      "outputs": [],
      "source": [
        "# feature Scaling /// NORMALIZATION - or - STANDARADIZATION\n",
        "from sklearn.preprocessing import StandardScaler\n",
        "\n",
        "scale_x = StandardScaler()\n",
        "x_train = scale_x.fit_transform(x_train)\n",
        "x_test = scale_x.transform(x_test)\n",
        "##print('x_test : \\n',x_test[0:3,:])\n",
        "##print('y_test : \\n',x_train[0:3])"
      ]
    },
    {
      "cell_type": "code",
      "execution_count": null,
      "id": "a46bdac9",
      "metadata": {
        "id": "a46bdac9",
        "outputId": "81028e5f-e034-4000-92a2-c4d57afed9c1"
      },
      "outputs": [
        {
          "name": "stdout",
          "output_type": "stream",
          "text": [
            "Epoch 1/150\n",
            "4/4 [==============================] - 0s 0s/step - loss: 1.3277 - accuracy: 0.2286\n",
            "Epoch 2/150\n",
            "4/4 [==============================] - 0s 751us/step - loss: 1.2889 - accuracy: 0.2286\n",
            "Epoch 3/150\n",
            "4/4 [==============================] - 0s 1ms/step - loss: 1.2543 - accuracy: 0.2571\n",
            "Epoch 4/150\n",
            "4/4 [==============================] - 0s 1ms/step - loss: 1.2198 - accuracy: 0.2571\n",
            "Epoch 5/150\n",
            "4/4 [==============================] - 0s 1000us/step - loss: 1.1921 - accuracy: 0.2571\n",
            "Epoch 6/150\n",
            "4/4 [==============================] - 0s 2ms/step - loss: 1.1632 - accuracy: 0.2571\n",
            "Epoch 7/150\n",
            "4/4 [==============================] - 0s 1000us/step - loss: 1.1404 - accuracy: 0.2571\n",
            "Epoch 8/150\n",
            "4/4 [==============================] - 0s 1ms/step - loss: 1.1141 - accuracy: 0.2571\n",
            "Epoch 9/150\n",
            "4/4 [==============================] - 0s 999us/step - loss: 1.0927 - accuracy: 0.2571\n",
            "Epoch 10/150\n",
            "4/4 [==============================] - 0s 1ms/step - loss: 1.0711 - accuracy: 0.2857\n",
            "Epoch 11/150\n",
            "4/4 [==============================] - 0s 1000us/step - loss: 1.0501 - accuracy: 0.3429\n",
            "Epoch 12/150\n",
            "4/4 [==============================] - 0s 1ms/step - loss: 1.0318 - accuracy: 0.3429\n",
            "Epoch 13/150\n",
            "4/4 [==============================] - 0s 1ms/step - loss: 1.0124 - accuracy: 0.4000\n",
            "Epoch 14/150\n",
            "4/4 [==============================] - 0s 1000us/step - loss: 0.9952 - accuracy: 0.5429\n",
            "Epoch 15/150\n",
            "4/4 [==============================] - 0s 2ms/step - loss: 0.9794 - accuracy: 0.5714\n",
            "Epoch 16/150\n",
            "4/4 [==============================] - 0s 999us/step - loss: 0.9635 - accuracy: 0.6286\n",
            "Epoch 17/150\n",
            "4/4 [==============================] - 0s 2ms/step - loss: 0.9465 - accuracy: 0.6286\n",
            "Epoch 18/150\n",
            "4/4 [==============================] - 0s 999us/step - loss: 0.9333 - accuracy: 0.6286\n",
            "Epoch 19/150\n",
            "4/4 [==============================] - 0s 2ms/step - loss: 0.9170 - accuracy: 0.6286\n",
            "Epoch 20/150\n",
            "4/4 [==============================] - 0s 1ms/step - loss: 0.9017 - accuracy: 0.6286\n",
            "Epoch 21/150\n",
            "4/4 [==============================] - 0s 2ms/step - loss: 0.8873 - accuracy: 0.6286\n",
            "Epoch 22/150\n",
            "4/4 [==============================] - 0s 2ms/step - loss: 0.8744 - accuracy: 0.6571\n",
            "Epoch 23/150\n",
            "4/4 [==============================] - 0s 999us/step - loss: 0.8601 - accuracy: 0.7143\n",
            "Epoch 24/150\n",
            "4/4 [==============================] - 0s 1ms/step - loss: 0.8472 - accuracy: 0.6571\n",
            "Epoch 25/150\n",
            "4/4 [==============================] - 0s 750us/step - loss: 0.8351 - accuracy: 0.6857\n",
            "Epoch 26/150\n",
            "4/4 [==============================] - 0s 2ms/step - loss: 0.8239 - accuracy: 0.6857\n",
            "Epoch 27/150\n",
            "4/4 [==============================] - 0s 749us/step - loss: 0.8136 - accuracy: 0.6857\n",
            "Epoch 28/150\n",
            "4/4 [==============================] - 0s 1ms/step - loss: 0.8035 - accuracy: 0.6857\n",
            "Epoch 29/150\n",
            "4/4 [==============================] - 0s 750us/step - loss: 0.7924 - accuracy: 0.6857\n",
            "Epoch 30/150\n",
            "4/4 [==============================] - 0s 1ms/step - loss: 0.7812 - accuracy: 0.6857\n",
            "Epoch 31/150\n",
            "4/4 [==============================] - 0s 854us/step - loss: 0.7715 - accuracy: 0.7143\n",
            "Epoch 32/150\n",
            "4/4 [==============================] - 0s 750us/step - loss: 0.7613 - accuracy: 0.7143\n",
            "Epoch 33/150\n",
            "4/4 [==============================] - 0s 999us/step - loss: 0.7518 - accuracy: 0.7143\n",
            "Epoch 34/150\n",
            "4/4 [==============================] - 0s 1000us/step - loss: 0.7429 - accuracy: 0.7429\n",
            "Epoch 35/150\n",
            "4/4 [==============================] - 0s 993us/step - loss: 0.7338 - accuracy: 0.7429\n",
            "Epoch 36/150\n",
            "4/4 [==============================] - 0s 750us/step - loss: 0.7250 - accuracy: 0.7429\n",
            "Epoch 37/150\n",
            "4/4 [==============================] - 0s 1ms/step - loss: 0.7166 - accuracy: 0.7429\n",
            "Epoch 38/150\n",
            "4/4 [==============================] - 0s 1000us/step - loss: 0.7084 - accuracy: 0.7429\n",
            "Epoch 39/150\n",
            "4/4 [==============================] - 0s 1ms/step - loss: 0.7002 - accuracy: 0.7714\n",
            "Epoch 40/150\n",
            "4/4 [==============================] - 0s 749us/step - loss: 0.6926 - accuracy: 0.7714\n",
            "Epoch 41/150\n",
            "4/4 [==============================] - 0s 1ms/step - loss: 0.6846 - accuracy: 0.7714\n",
            "Epoch 42/150\n",
            "4/4 [==============================] - 0s 1000us/step - loss: 0.6771 - accuracy: 0.7714\n",
            "Epoch 43/150\n",
            "4/4 [==============================] - 0s 750us/step - loss: 0.6698 - accuracy: 0.7714\n",
            "Epoch 44/150\n",
            "4/4 [==============================] - 0s 997us/step - loss: 0.6627 - accuracy: 0.8000\n",
            "Epoch 45/150\n",
            "4/4 [==============================] - 0s 750us/step - loss: 0.6557 - accuracy: 0.8000\n",
            "Epoch 46/150\n",
            "4/4 [==============================] - 0s 1ms/step - loss: 0.6494 - accuracy: 0.8000\n",
            "Epoch 47/150\n",
            "4/4 [==============================] - 0s 750us/step - loss: 0.6429 - accuracy: 0.8000\n",
            "Epoch 48/150\n",
            "4/4 [==============================] - 0s 1ms/step - loss: 0.6365 - accuracy: 0.8000\n",
            "Epoch 49/150\n",
            "4/4 [==============================] - 0s 750us/step - loss: 0.6305 - accuracy: 0.8000\n",
            "Epoch 50/150\n",
            "4/4 [==============================] - 0s 1ms/step - loss: 0.6249 - accuracy: 0.8000\n",
            "Epoch 51/150\n",
            "4/4 [==============================] - 0s 750us/step - loss: 0.6192 - accuracy: 0.8000\n",
            "Epoch 52/150\n",
            "4/4 [==============================] - 0s 750us/step - loss: 0.6139 - accuracy: 0.8000\n",
            "Epoch 53/150\n",
            "4/4 [==============================] - 0s 1ms/step - loss: 0.6083 - accuracy: 0.8000\n",
            "Epoch 54/150\n",
            "4/4 [==============================] - 0s 750us/step - loss: 0.6032 - accuracy: 0.8000\n",
            "Epoch 55/150\n",
            "4/4 [==============================] - 0s 1ms/step - loss: 0.5979 - accuracy: 0.8000\n",
            "Epoch 56/150\n",
            "4/4 [==============================] - 0s 1000us/step - loss: 0.5926 - accuracy: 0.8000\n",
            "Epoch 57/150\n",
            "4/4 [==============================] - 0s 1ms/step - loss: 0.5880 - accuracy: 0.8571\n",
            "Epoch 58/150\n",
            "4/4 [==============================] - 0s 750us/step - loss: 0.5830 - accuracy: 0.8857\n",
            "Epoch 59/150\n",
            "4/4 [==============================] - 0s 1ms/step - loss: 0.5778 - accuracy: 0.8857\n",
            "Epoch 60/150\n",
            "4/4 [==============================] - 0s 749us/step - loss: 0.5730 - accuracy: 0.8857\n",
            "Epoch 61/150\n",
            "4/4 [==============================] - 0s 750us/step - loss: 0.5679 - accuracy: 0.8857\n",
            "Epoch 62/150\n",
            "4/4 [==============================] - 0s 1ms/step - loss: 0.5627 - accuracy: 0.8857\n",
            "Epoch 63/150\n",
            "4/4 [==============================] - 0s 750us/step - loss: 0.5575 - accuracy: 0.8857\n",
            "Epoch 64/150\n",
            "4/4 [==============================] - 0s 1ms/step - loss: 0.5521 - accuracy: 0.8857\n",
            "Epoch 65/150\n",
            "4/4 [==============================] - 0s 750us/step - loss: 0.5469 - accuracy: 0.8857\n",
            "Epoch 66/150\n",
            "4/4 [==============================] - 0s 749us/step - loss: 0.5417 - accuracy: 0.8857\n",
            "Epoch 67/150\n",
            "4/4 [==============================] - 0s 749us/step - loss: 0.5365 - accuracy: 0.8857\n",
            "Epoch 68/150\n",
            "4/4 [==============================] - 0s 992us/step - loss: 0.5312 - accuracy: 0.8857\n",
            "Epoch 69/150\n",
            "4/4 [==============================] - 0s 999us/step - loss: 0.5260 - accuracy: 0.8857\n",
            "Epoch 70/150\n",
            "4/4 [==============================] - 0s 1000us/step - loss: 0.5207 - accuracy: 0.8857\n",
            "Epoch 71/150\n",
            "4/4 [==============================] - 0s 750us/step - loss: 0.5149 - accuracy: 0.8857\n",
            "Epoch 72/150\n",
            "4/4 [==============================] - 0s 999us/step - loss: 0.5093 - accuracy: 0.8857\n",
            "Epoch 73/150\n",
            "4/4 [==============================] - 0s 917us/step - loss: 0.5037 - accuracy: 0.8857\n",
            "Epoch 74/150\n",
            "4/4 [==============================] - 0s 999us/step - loss: 0.4981 - accuracy: 0.8857\n",
            "Epoch 75/150\n",
            "4/4 [==============================] - 0s 999us/step - loss: 0.4920 - accuracy: 0.8857\n",
            "Epoch 76/150\n",
            "4/4 [==============================] - 0s 1ms/step - loss: 0.4863 - accuracy: 0.8857\n",
            "Epoch 77/150\n",
            "4/4 [==============================] - 0s 1ms/step - loss: 0.4802 - accuracy: 0.8857\n",
            "Epoch 78/150\n",
            "4/4 [==============================] - 0s 1ms/step - loss: 0.4747 - accuracy: 0.8857\n",
            "Epoch 79/150\n",
            "4/4 [==============================] - 0s 1ms/step - loss: 0.4691 - accuracy: 0.8857\n",
            "Epoch 80/150\n",
            "4/4 [==============================] - 0s 893us/step - loss: 0.4633 - accuracy: 0.9143\n",
            "Epoch 81/150\n",
            "4/4 [==============================] - 0s 999us/step - loss: 0.4577 - accuracy: 0.9143\n",
            "Epoch 82/150\n",
            "4/4 [==============================] - 0s 999us/step - loss: 0.4530 - accuracy: 0.9143\n",
            "Epoch 83/150\n",
            "4/4 [==============================] - 0s 1ms/step - loss: 0.4469 - accuracy: 0.9143\n",
            "Epoch 84/150\n",
            "4/4 [==============================] - 0s 1ms/step - loss: 0.4416 - accuracy: 0.9143\n",
            "Epoch 85/150\n",
            "4/4 [==============================] - 0s 750us/step - loss: 0.4361 - accuracy: 0.9143\n",
            "Epoch 86/150\n",
            "4/4 [==============================] - 0s 749us/step - loss: 0.4309 - accuracy: 0.9143\n",
            "Epoch 87/150\n",
            "4/4 [==============================] - 0s 1ms/step - loss: 0.4253 - accuracy: 0.9143\n",
            "Epoch 88/150\n",
            "4/4 [==============================] - 0s 750us/step - loss: 0.4203 - accuracy: 0.9143\n",
            "Epoch 89/150\n",
            "4/4 [==============================] - 0s 1ms/step - loss: 0.4153 - accuracy: 0.9143\n",
            "Epoch 90/150\n",
            "4/4 [==============================] - 0s 750us/step - loss: 0.4102 - accuracy: 0.9143\n",
            "Epoch 91/150\n",
            "4/4 [==============================] - 0s 1ms/step - loss: 0.4054 - accuracy: 0.9143\n",
            "Epoch 92/150\n",
            "4/4 [==============================] - 0s 749us/step - loss: 0.4005 - accuracy: 0.9143\n",
            "Epoch 93/150\n",
            "4/4 [==============================] - 0s 1ms/step - loss: 0.3962 - accuracy: 0.9143\n",
            "Epoch 94/150\n",
            "4/4 [==============================] - 0s 749us/step - loss: 0.3912 - accuracy: 0.9143\n",
            "Epoch 95/150\n",
            "4/4 [==============================] - 0s 1000us/step - loss: 0.3870 - accuracy: 0.9143\n",
            "Epoch 96/150\n",
            "4/4 [==============================] - 0s 749us/step - loss: 0.3820 - accuracy: 0.9143\n",
            "Epoch 97/150\n",
            "4/4 [==============================] - 0s 1000us/step - loss: 0.3775 - accuracy: 0.9143\n",
            "Epoch 98/150\n",
            "4/4 [==============================] - 0s 1ms/step - loss: 0.3727 - accuracy: 0.9143\n",
            "Epoch 99/150\n",
            "4/4 [==============================] - 0s 750us/step - loss: 0.3676 - accuracy: 0.9143\n",
            "Epoch 100/150\n",
            "4/4 [==============================] - 0s 1ms/step - loss: 0.3634 - accuracy: 0.9143\n",
            "Epoch 101/150\n",
            "4/4 [==============================] - 0s 999us/step - loss: 0.3587 - accuracy: 0.9143\n",
            "Epoch 102/150\n",
            "4/4 [==============================] - 0s 750us/step - loss: 0.3542 - accuracy: 0.9143\n",
            "Epoch 103/150\n",
            "4/4 [==============================] - 0s 747us/step - loss: 0.3497 - accuracy: 0.9143\n",
            "Epoch 104/150\n",
            "4/4 [==============================] - 0s 1ms/step - loss: 0.3455 - accuracy: 0.9714\n",
            "Epoch 105/150\n",
            "4/4 [==============================] - 0s 1ms/step - loss: 0.3414 - accuracy: 0.9714\n",
            "Epoch 106/150\n",
            "4/4 [==============================] - 0s 1ms/step - loss: 0.3372 - accuracy: 0.9714\n",
            "Epoch 107/150\n",
            "4/4 [==============================] - 0s 1ms/step - loss: 0.3328 - accuracy: 0.9714\n",
            "Epoch 108/150\n",
            "4/4 [==============================] - 0s 1ms/step - loss: 0.3286 - accuracy: 0.9714\n",
            "Epoch 109/150\n",
            "4/4 [==============================] - 0s 749us/step - loss: 0.3248 - accuracy: 0.9714\n",
            "Epoch 110/150\n",
            "4/4 [==============================] - 0s 1ms/step - loss: 0.3212 - accuracy: 0.9714\n",
            "Epoch 111/150\n",
            "4/4 [==============================] - 0s 1000us/step - loss: 0.3167 - accuracy: 0.9714\n",
            "Epoch 112/150\n",
            "4/4 [==============================] - 0s 1ms/step - loss: 0.3131 - accuracy: 0.9714\n",
            "Epoch 113/150\n",
            "4/4 [==============================] - 0s 1000us/step - loss: 0.3094 - accuracy: 0.9714\n",
            "Epoch 114/150\n",
            "4/4 [==============================] - 0s 1ms/step - loss: 0.3058 - accuracy: 0.9714\n",
            "Epoch 115/150\n",
            "4/4 [==============================] - 0s 999us/step - loss: 0.3020 - accuracy: 0.9714\n",
            "Epoch 116/150\n",
            "4/4 [==============================] - 0s 1000us/step - loss: 0.2984 - accuracy: 0.9714\n",
            "Epoch 117/150\n",
            "4/4 [==============================] - 0s 999us/step - loss: 0.2950 - accuracy: 0.9714\n",
            "Epoch 118/150\n",
            "4/4 [==============================] - 0s 749us/step - loss: 0.2917 - accuracy: 0.9714\n",
            "Epoch 119/150\n",
            "4/4 [==============================] - 0s 1000us/step - loss: 0.2882 - accuracy: 0.9714\n",
            "Epoch 120/150\n",
            "4/4 [==============================] - 0s 999us/step - loss: 0.2852 - accuracy: 0.9714\n",
            "Epoch 121/150\n",
            "4/4 [==============================] - 0s 1000us/step - loss: 0.2816 - accuracy: 0.9714\n",
            "Epoch 122/150\n",
            "4/4 [==============================] - 0s 1ms/step - loss: 0.2784 - accuracy: 0.9714\n",
            "Epoch 123/150\n",
            "4/4 [==============================] - 0s 1000us/step - loss: 0.2753 - accuracy: 0.9714\n",
            "Epoch 124/150\n",
            "4/4 [==============================] - 0s 750us/step - loss: 0.2721 - accuracy: 0.9714\n",
            "Epoch 125/150\n",
            "4/4 [==============================] - 0s 999us/step - loss: 0.2690 - accuracy: 0.9714\n",
            "Epoch 126/150\n",
            "4/4 [==============================] - 0s 999us/step - loss: 0.2663 - accuracy: 0.9714\n",
            "Epoch 127/150\n",
            "4/4 [==============================] - 0s 999us/step - loss: 0.2632 - accuracy: 0.9714\n",
            "Epoch 128/150\n",
            "4/4 [==============================] - 0s 999us/step - loss: 0.2604 - accuracy: 0.9714\n",
            "Epoch 129/150\n",
            "4/4 [==============================] - 0s 1000us/step - loss: 0.2578 - accuracy: 0.9714\n",
            "Epoch 130/150\n",
            "4/4 [==============================] - 0s 1ms/step - loss: 0.2554 - accuracy: 0.9714\n",
            "Epoch 131/150\n",
            "4/4 [==============================] - 0s 1ms/step - loss: 0.2526 - accuracy: 0.9714\n",
            "Epoch 132/150\n",
            "4/4 [==============================] - 0s 1ms/step - loss: 0.2499 - accuracy: 0.9714\n",
            "Epoch 133/150\n",
            "4/4 [==============================] - 0s 1ms/step - loss: 0.2469 - accuracy: 0.9714\n",
            "Epoch 134/150\n",
            "4/4 [==============================] - 0s 1ms/step - loss: 0.2452 - accuracy: 0.9714\n",
            "Epoch 135/150\n",
            "4/4 [==============================] - 0s 2ms/step - loss: 0.2424 - accuracy: 0.9714\n",
            "Epoch 136/150\n",
            "4/4 [==============================] - 0s 1ms/step - loss: 0.2398 - accuracy: 0.9714\n",
            "Epoch 137/150\n",
            "4/4 [==============================] - 0s 1ms/step - loss: 0.2379 - accuracy: 0.9714\n",
            "Epoch 138/150\n",
            "4/4 [==============================] - 0s 1ms/step - loss: 0.2353 - accuracy: 0.9714\n",
            "Epoch 139/150\n",
            "4/4 [==============================] - 0s 1ms/step - loss: 0.2332 - accuracy: 0.9714\n",
            "Epoch 140/150\n",
            "4/4 [==============================] - 0s 999us/step - loss: 0.2311 - accuracy: 0.9714\n",
            "Epoch 141/150\n",
            "4/4 [==============================] - 0s 1ms/step - loss: 0.2287 - accuracy: 0.9714\n",
            "Epoch 142/150\n",
            "4/4 [==============================] - 0s 999us/step - loss: 0.2268 - accuracy: 0.9714\n",
            "Epoch 143/150\n",
            "4/4 [==============================] - 0s 1000us/step - loss: 0.2246 - accuracy: 0.9714\n",
            "Epoch 144/150\n",
            "4/4 [==============================] - 0s 1000us/step - loss: 0.2227 - accuracy: 0.9714\n",
            "Epoch 145/150\n",
            "4/4 [==============================] - 0s 999us/step - loss: 0.2202 - accuracy: 0.9714\n",
            "Epoch 146/150\n",
            "4/4 [==============================] - 0s 1000us/step - loss: 0.2187 - accuracy: 0.9714\n",
            "Epoch 147/150\n",
            "4/4 [==============================] - 0s 2ms/step - loss: 0.2167 - accuracy: 0.9714\n",
            "Epoch 148/150\n",
            "4/4 [==============================] - 0s 1ms/step - loss: 0.2147 - accuracy: 0.9714\n",
            "Epoch 149/150\n",
            "4/4 [==============================] - 0s 999us/step - loss: 0.2131 - accuracy: 0.9714\n",
            "Epoch 150/150\n",
            "4/4 [==============================] - 0s 2ms/step - loss: 0.2110 - accuracy: 0.9714\n"
          ]
        },
        {
          "data": {
            "text/plain": [
              "<tensorflow.python.keras.callbacks.History at 0x279ad921d90>"
            ]
          },
          "execution_count": 157,
          "metadata": {},
          "output_type": "execute_result"
        }
      ],
      "source": [
        "### Part-2\n",
        "### Create the DNN\n",
        "import keras\n",
        "from keras.models import Sequential\n",
        "from keras.layers import Dense\n",
        "\n",
        "# Initialising the DNN\n",
        "classifier = Sequential()\n",
        "# Adding the Layers :\n",
        "# 1 : input Layer + 1st hidden layer, 2 : 2nd hidden layer, 3: Output layer\n",
        "#classifier.add(keras.layers.Flatten()) # input; if we needed Flatttening \n",
        "classifier.add(keras.layers.Dense(6, activation = 'relu', input_dim = 12))# inputLayer + 1st hidden layer\n",
        "classifier.add(keras.layers.Dense(6, activation = 'relu'))    # 2nd hidden layer\n",
        "classifier.add(keras.layers.Dense(3, activation = 'softmax')) # output layer; for Binary Classification\n",
        "#                                                             # Note: if more than Binary;Ex: 3 classes\n",
        "#                                                             # ==> units = 3, activation='softmax'\n",
        "\n",
        "# Compiling our Model (= applying 'Stochastic Gradient Descent')\n",
        "classifier.compile(optimizer = 'adam', loss = 'categorical_crossentropy', metrics = ['accuracy'])\n",
        "#                                      # Note: if more than Binary;Ex: 3 classes\n",
        "#                                      # ==> loss = categorical_crossentropy\n",
        "\n",
        "\n",
        "# Fitting the ANN to the Training DATA-Set\n",
        "classifier.fit(x = x_train, y = y_train, batch_size = 10, epochs = 150) # Note :\n",
        "# batch_size = after what 'number of Observations' (used to train); do you want to UPDATE wheights ?\n",
        "# epoch = after what 'number of Times' of passing DATA Set to the Model; do you want to STOP the training ?"
      ]
    },
    {
      "cell_type": "code",
      "execution_count": null,
      "id": "aa31ad55",
      "metadata": {
        "id": "aa31ad55",
        "outputId": "f2dd8364-7656-4af3-878b-bb9a0c64c149"
      },
      "outputs": [
        {
          "name": "stdout",
          "output_type": "stream",
          "text": [
            "y_pred: \n",
            " [[8.90197635e-01 9.81322229e-02 1.16702328e-02]\n",
            " [9.08972085e-01 8.38122442e-02 7.21562048e-03]\n",
            " [4.50229294e-08 9.94912624e-01 5.08736866e-03]\n",
            " [1.98767515e-23 1.00000000e+00 2.76785812e-08]\n",
            " [4.17462558e-01 1.04470208e-01 4.78067249e-01]\n",
            " [8.69564509e-09 9.96734679e-01 3.26530705e-03]\n",
            " [4.77328226e-02 1.45515054e-02 9.37715709e-01]\n",
            " [1.23282149e-03 1.38373615e-03 9.97383416e-01]\n",
            " [4.50229294e-08 9.94912624e-01 5.08736866e-03]\n",
            " [1.57177761e-01 6.26012608e-02 7.80220926e-01]\n",
            " [6.69394314e-01 1.51397288e-01 1.79208398e-01]\n",
            " [8.55658233e-01 1.21500373e-01 2.28413586e-02]\n",
            " [2.24406973e-01 6.41133413e-02 7.11479664e-01]\n",
            " [2.17641727e-03 2.11091083e-03 9.95712638e-01]\n",
            " [5.24852872e-01 1.18064195e-01 3.57082963e-01]\n",
            " [2.87068519e-06 9.79984999e-01 2.00120639e-02]]\n",
            "y_test: \n",
            " [[1. 0. 0.]\n",
            " [1. 0. 0.]\n",
            " [0. 1. 0.]\n",
            " [0. 1. 0.]\n",
            " [1. 0. 0.]\n",
            " [0. 1. 0.]\n",
            " [0. 0. 1.]\n",
            " [0. 0. 1.]\n",
            " [0. 1. 0.]\n",
            " [0. 0. 1.]\n",
            " [1. 0. 0.]\n",
            " [1. 0. 0.]\n",
            " [0. 0. 1.]\n",
            " [0. 0. 1.]\n",
            " [1. 0. 0.]\n",
            " [0. 1. 0.]]\n"
          ]
        }
      ],
      "source": [
        "### Part 3 - Evauation\n",
        "### 3-1 : Predict on Test Set\n",
        "y_pred = classifier.predict(x_test)\n",
        "print('y_pred: \\n',y_pred)\n",
        "print('y_test: \\n',y_test)"
      ]
    },
    {
      "cell_type": "code",
      "execution_count": null,
      "id": "7969d537",
      "metadata": {
        "id": "7969d537",
        "outputId": "378ca578-2ece-4390-fa23-f7398f7c9aa4"
      },
      "outputs": [
        {
          "name": "stdout",
          "output_type": "stream",
          "text": [
            "[[5 0 1]\n",
            " [0 5 0]\n",
            " [0 0 5]]\n"
          ]
        }
      ],
      "source": [
        "### 3-3 : CONFUSION MATRIX; is the Model Validated on the Test Set ? \n",
        "# then : making the Confusion Matrix \n",
        "from sklearn.metrics import confusion_matrix\n",
        "matrix_ANN = confusion_matrix(y_test.argmax(axis=1), y_pred.argmax(axis=1))\n",
        "\n",
        "##conf_m = confusion_matrix(y_test, y_preddd)\n",
        "print(matrix_ANN) # finally leads to --> (1510 + 208 --> CORRECT Predictions)\n",
        "#                                    (85 + 197   --> in-CORRECT Predictions)\n",
        "\n",
        "# now : Compute Accuracy using Confusion Matrix \n",
        "##accuracy_conf_m = (1510 + 208)/ 2000\n",
        "##print(accuracy_conf_m)  # accuracy_conf_m = 86 % ; which is Equal to Model Accuracy --> Valideted !"
      ]
    },
    {
      "cell_type": "code",
      "execution_count": null,
      "id": "846a294f",
      "metadata": {
        "id": "846a294f",
        "outputId": "64d36dee-8677-400c-ea79-7ba464ce1df5"
      },
      "outputs": [
        {
          "data": {
            "text/plain": [
              "Text(24.0, 0.5, 'Predicted Class')"
            ]
          },
          "execution_count": 58,
          "metadata": {},
          "output_type": "execute_result"
        },
        {
          "data": {
            "image/png": "[encoded data removed]",
            "text/plain": [
              "<Figure size 360x216 with 2 Axes>"
            ]
          },
          "metadata": {
            "needs_background": "light"
          },
          "output_type": "display_data"
        }
      ],
      "source": [
        "### 3-3-2 Plot Confusion Matrix - ANN\n",
        "import seaborn as sn\n",
        "import pandas as pd\n",
        "import matplotlib.pyplot as plt\n",
        "array = matrix_ANN\n",
        "\n",
        "df_cm = pd.DataFrame(array, index = [i for i in \"ABC\"],\n",
        "                     columns = [i for i in \"ABC\"])\n",
        "plt.figure(figsize = (5,3))\n",
        "sn.heatmap(df_cm, annot=True)\n",
        "plt.xlabel('TRUE Class')\n",
        "plt.ylabel('Predicted Class') # TP(1,1), FP(1,2), FN(2,1), TN(2,2) ;Acc=(TP+TN)/(TP+TN+FP+FN)"
      ]
    },
    {
      "cell_type": "code",
      "execution_count": null,
      "id": "93e4399f",
      "metadata": {
        "id": "93e4399f"
      },
      "outputs": [],
      "source": [
        "from sklearn.metrics import classification_report, confusion_matrix, accuracy_score\n",
        "ANN_prediction = [0,2,2,1,1,2,2,2,2,0,1,2,2,1,0,1] # handy ANN_prediction = decode(y_pred) [0,2,2,1,1,2,2,2,2,0,1,2,2,1,0,1]\n",
        "#print(ANN_prediction)\n",
        "#np.ndim(ANN_prediction)\n",
        "result1 = classification_report(y_test, ANN_prediction)\n",
        "print('ANN Classification Report:')\n",
        "print (result1)\n",
        "result2 = accuracy_score(y_test,ANN_prediction)\n",
        "print('ANN Accuracy:',result2)"
      ]
    },
    {
      "cell_type": "code",
      "execution_count": null,
      "id": "28d9201e",
      "metadata": {
        "id": "28d9201e",
        "outputId": "cc23b06a-7baf-4b4c-b175-abe27bf06fef"
      },
      "outputs": [
        {
          "data": {
            "text/plain": [
              "SVC(random_state=0)"
            ]
          },
          "execution_count": 136,
          "metadata": {},
          "output_type": "execute_result"
        }
      ],
      "source": [
        "### 3-4 SVM\n",
        "from sklearn.svm import SVC\n",
        "\n",
        "# reshape the data for SVM:\n",
        "from sklearn.preprocessing import LabelEncoder, OneHotEncoder\n",
        "# encode class values as integers\n",
        "encoder = LabelEncoder()\n",
        "encoder.fit(y)\n",
        "y_svm = encoder.transform(y)\n",
        "\n",
        "# Splitting the data into Test and Training set\n",
        "from sklearn.model_selection import train_test_split\n",
        "x_train, x_test, y_train, y_test = train_test_split(x, y_svm, test_size = 0.1, shuffle = 'TRUE')\n",
        "# feature Scaling /// NORMALIZATION - or - STANDARADIZATION\n",
        "from sklearn.preprocessing import StandardScaler\n",
        "scale_x = StandardScaler()\n",
        "x_train = scale_x.fit_transform(x_train)\n",
        "x_test = scale_x.transform(x_test)\n",
        "\n",
        "# Create your regressor object\n",
        "SVM_model = SVC(kernel = 'rbf', random_state = 0) # rbf: Gaussian, good for Non-Linear, others: 'linear', 'sigmoid'\n",
        "\n",
        "# fit to the training Data\n",
        "SVM_model.fit(x_train , y_train)"
      ]
    },
    {
      "cell_type": "code",
      "execution_count": null,
      "id": "54b4c469",
      "metadata": {
        "id": "54b4c469",
        "outputId": "0a9697b3-e948-432b-ebb5-dd57a9a3bcbe"
      },
      "outputs": [
        {
          "name": "stdout",
          "output_type": "stream",
          "text": [
            "y_test =  [2 0 2 0 1 0 1 1 2 1 0 2 1 1 0 1 2 2 0 2 0]\n",
            "SVM predict= [2 0 2 0 1 0 1 1 2 1 0 2 1 0 0 1 2 1 0 2 2]\n"
          ]
        }
      ],
      "source": [
        "### SVM Prediction\n",
        "print('y_test = ' , y_test)\n",
        "\n",
        "# make prediction\n",
        "SVM_predition = SVM_model.predict(x_test)\n",
        "print(\"SVM predict=\", SVM_predition)"
      ]
    },
    {
      "cell_type": "code",
      "execution_count": null,
      "id": "1aa7f238",
      "metadata": {
        "id": "1aa7f238",
        "outputId": "569a6168-c8f5-4fb6-a19d-8daa4e9898dc"
      },
      "outputs": [
        {
          "name": "stdout",
          "output_type": "stream",
          "text": [
            "[[6 0 1]\n",
            " [1 6 0]\n",
            " [0 1 6]]\n"
          ]
        }
      ],
      "source": [
        "### Evaluation : CONFUSION MATRIX; is the Model Validated on the Test Set ? \n",
        "from sklearn.metrics import confusion_matrix\n",
        "matrix_SVM = confusion_matrix(y_test, SVM_predition)\n",
        "print(matrix_SVM) # finally leads to --> (1510 + 208 --> CORRECT Predictions)\n",
        "#                                    (85 + 197   --> in-CORRECT Predictions)\n",
        "\n",
        "# now : Compute Accuracy using Confusion Matrix \n",
        "##accuracy_conf_m = (1510 + 208)/ 2000\n",
        "##print(accuracy_conf_m)  # accuracy_conf_m = 86 % ; which is Equal to Model Accuracy --> Valideted !"
      ]
    },
    {
      "cell_type": "code",
      "execution_count": null,
      "id": "eea3d415",
      "metadata": {
        "id": "eea3d415",
        "outputId": "d520258a-fa65-4f35-b3c2-eca45147e3fa"
      },
      "outputs": [
        {
          "data": {
            "text/plain": [
              "Text(24.0, 0.5, 'Predicted Class')"
            ]
          },
          "execution_count": 105,
          "metadata": {},
          "output_type": "execute_result"
        },
        {
          "data": {
            "image/png": "[encoded data removed]",
            "text/plain": [
              "<Figure size 360x216 with 2 Axes>"
            ]
          },
          "metadata": {
            "needs_background": "light"
          },
          "output_type": "display_data"
        }
      ],
      "source": [
        "### Plot Confusion Matrix - SVM\n",
        "import seaborn as sn\n",
        "import pandas as pd\n",
        "import matplotlib.pyplot as plt\n",
        "array = matrix_SVM\n",
        "\n",
        "df_cm = pd.DataFrame(array, index = [i for i in \"ABC\"],\n",
        "                     columns = [i for i in \"ABC\"])\n",
        "plt.figure(figsize = (5,3))\n",
        "sn.heatmap(df_cm, annot=True)\n",
        "plt.xlabel('TRUE Class')\n",
        "plt.ylabel('Predicted Class') # TP(1,1), FP(1,2), FN(2,1), TN(2,2) ;Acc=(TP+TN)/(TP+TN+FP+FN)"
      ]
    },
    {
      "cell_type": "code",
      "execution_count": null,
      "id": "b6a927d0",
      "metadata": {
        "id": "b6a927d0",
        "outputId": "cc3c1742-0471-462e-e88d-4ca7ee183a60"
      },
      "outputs": [
        {
          "name": "stdout",
          "output_type": "stream",
          "text": [
            "SVM Classification Report:\n",
            "              precision    recall  f1-score   support\n",
            "\n",
            "           0       0.83      1.00      0.91        10\n",
            "           1       1.00      0.75      0.86         4\n",
            "           2       1.00      0.75      0.86         4\n",
            "\n",
            "    accuracy                           0.89        18\n",
            "   macro avg       0.94      0.83      0.87        18\n",
            "weighted avg       0.91      0.89      0.89        18\n",
            "\n",
            "SVM Accuracy: 0.8888888888888888\n"
          ]
        }
      ],
      "source": [
        "from sklearn.metrics import classification_report, confusion_matrix, accuracy_score\n",
        "result1 = classification_report(y_test, SVM_predition)\n",
        "print('SVM Classification Report:')\n",
        "print (result1)\n",
        "result2 = accuracy_score(y_test,SVM_predition)\n",
        "print('SVM Accuracy:',result2)"
      ]
    },
    {
      "cell_type": "code",
      "execution_count": null,
      "id": "05eda1f0",
      "metadata": {
        "id": "05eda1f0",
        "outputId": "d15adfad-880d-4c06-e77f-62d0ec3d9d23"
      },
      "outputs": [
        {
          "data": {
            "text/plain": [
              "RandomForestClassifier(criterion='entropy', n_estimators=50)"
            ]
          },
          "execution_count": 138,
          "metadata": {},
          "output_type": "execute_result"
        }
      ],
      "source": [
        "### 3-5 Random Forest\n",
        "# ITS BETTER FOR MORE THAN 1-DIMENSION PROBLESMs\n",
        "from sklearn.ensemble import RandomForestClassifier\n",
        "\n",
        "# reshape the data for RF:\n",
        "from sklearn.preprocessing import LabelEncoder, OneHotEncoder\n",
        "# encode class values as integers\n",
        "encoder = LabelEncoder()\n",
        "encoder.fit(y)\n",
        "y_rf = encoder.transform(y)\n",
        "\n",
        "# Splitting the data into Test and Training set\n",
        "from sklearn.model_selection import train_test_split\n",
        "x_train, x_test, y_train, y_test = train_test_split(x, y_rf, test_size = 0.1, shuffle = 'TRUE')\n",
        "# feature Scaling /// NORMALIZATION - or - STANDARADIZATION\n",
        "from sklearn.preprocessing import StandardScaler\n",
        "scale_x = StandardScaler()\n",
        "x_train = scale_x.fit_transform(x_train)\n",
        "x_test = scale_x.transform(x_test)\n",
        "\n",
        "# Create the regressor object\n",
        "RF_model = RandomForestClassifier(n_estimators= 50, criterion = 'entropy') # n_estimators = Number of trees\n",
        "\n",
        "# Fit to the data\n",
        "RF_model.fit(x_train, y_train)"
      ]
    },
    {
      "cell_type": "code",
      "execution_count": null,
      "id": "24aeddcc",
      "metadata": {
        "id": "24aeddcc",
        "outputId": "2924649f-c004-4255-bd0e-438e305df708"
      },
      "outputs": [
        {
          "name": "stdout",
          "output_type": "stream",
          "text": [
            "y_test =  [0 0 2 0 2 0 2 1 0 0 2 1 2 2 0 1 1 1 2 2 1]\n",
            "RF predict= [2 0 2 0 2 0 2 1 0 2 0 1 2 2 0 1 1 1 0 2 1]\n"
          ]
        }
      ],
      "source": [
        "### Random Forest Prediction\n",
        "print('y_test = ' , y_test)\n",
        "\n",
        "# make prediction\n",
        "RF_predition = RF_model.predict(x_test)\n",
        "print(\"RF predict=\", RF_predition)"
      ]
    },
    {
      "cell_type": "code",
      "execution_count": null,
      "id": "62cb423e",
      "metadata": {
        "id": "62cb423e",
        "outputId": "cef31b58-f90c-46d3-d6e8-fbabb278662c"
      },
      "outputs": [
        {
          "name": "stdout",
          "output_type": "stream",
          "text": [
            "[[5 0 2]\n",
            " [0 6 0]\n",
            " [2 0 6]]\n"
          ]
        }
      ],
      "source": [
        "### Evaluation : CONFUSION MATRIX; is the Model Validated on the Test Set ? \n",
        "from sklearn.metrics import confusion_matrix\n",
        "matrix_RF = confusion_matrix(y_test, RF_predition)\n",
        "print(matrix_RF) # finally leads to --> (1510 + 208 --> CORRECT Predictions)\n",
        "#                                    (85 + 197   --> in-CORRECT Predictions)\n",
        "\n",
        "# now : Compute Accuracy using Confusion Matrix \n",
        "##accuracy_conf_m = (1510 + 208)/ 2000\n",
        "##print(accuracy_conf_m)  # accuracy_conf_m = 86 % ; which is Equal to Model Accuracy --> Valideted !"
      ]
    },
    {
      "cell_type": "code",
      "execution_count": null,
      "id": "07f5d831",
      "metadata": {
        "id": "07f5d831",
        "outputId": "5c449668-bf91-4b99-dc82-e6d5c28d1d6d"
      },
      "outputs": [
        {
          "data": {
            "text/plain": [
              "Text(24.0, 0.5, 'Predicted Class')"
            ]
          },
          "execution_count": 109,
          "metadata": {},
          "output_type": "execute_result"
        },
        {
          "data": {
            "image/png": "[encoded data removed]",
            "text/plain": [
              "<Figure size 360x216 with 2 Axes>"
            ]
          },
          "metadata": {
            "needs_background": "light"
          },
          "output_type": "display_data"
        }
      ],
      "source": [
        "### Plot Confusion Matrix - RF\n",
        "import seaborn as sn\n",
        "import pandas as pd\n",
        "import matplotlib.pyplot as plt\n",
        "array = matrix_RF\n",
        "\n",
        "df_cm = pd.DataFrame(array, index = [i for i in \"ABC\"],\n",
        "                     columns = [i for i in \"ABC\"])\n",
        "plt.figure(figsize = (5,3))\n",
        "sn.heatmap(df_cm, annot=True)\n",
        "plt.xlabel('TRUE Class')\n",
        "plt.ylabel('Predicted Class') # TP(1,1), FP(1,2), FN(2,1), TN(2,2) ;Acc=(TP+TN)/(TP+TN+FP+FN)"
      ]
    },
    {
      "cell_type": "code",
      "execution_count": null,
      "id": "66387111",
      "metadata": {
        "id": "66387111",
        "outputId": "4a48a02f-8b17-4c11-ae1f-5b30d08b4af8"
      },
      "outputs": [
        {
          "name": "stdout",
          "output_type": "stream",
          "text": [
            "Random Forest Classification Report:\n",
            "              precision    recall  f1-score   support\n",
            "\n",
            "           0       0.88      0.78      0.82         9\n",
            "           1       1.00      1.00      1.00         2\n",
            "           2       0.67      0.80      0.73         5\n",
            "\n",
            "    accuracy                           0.81        16\n",
            "   macro avg       0.85      0.86      0.85        16\n",
            "weighted avg       0.83      0.81      0.82        16\n",
            "\n",
            "Random Forest Accuracy: 0.8125\n"
          ]
        }
      ],
      "source": [
        "from sklearn.metrics import classification_report, confusion_matrix, accuracy_score\n",
        "result1 = classification_report(y_test, RF_predition)\n",
        "print('Random Forest Classification Report:')\n",
        "print (result1)\n",
        "result2 = accuracy_score(y_test,RF_predition)\n",
        "print('Random Forest Accuracy:',result2)"
      ]
    },
    {
      "cell_type": "code",
      "execution_count": null,
      "id": "9131a4d7",
      "metadata": {
        "id": "9131a4d7"
      },
      "outputs": [],
      "source": [
        "### Evaluation : k-fold cross validation\n",
        "##from keras.utils import np_utils\n",
        "from sklearn.model_selection import cross_val_score\n",
        "\n",
        "##kfold = KFold(n_splits=10, shuffle=True, random_state = 42)\n",
        "accuracies = cross_val_score(estimator = SVM_model , x, y, cv=5)\n",
        "accuracies.mean()\n",
        "accuracies.std()"
      ]
    },
    {
      "cell_type": "code",
      "execution_count": null,
      "id": "08465d62",
      "metadata": {
        "id": "08465d62",
        "outputId": "8583b940-6240-4218-f59f-f807f7199b0d"
      },
      "outputs": [
        {
          "data": {
            "text/plain": [
              "KNeighborsClassifier()"
            ]
          },
          "execution_count": 124,
          "metadata": {},
          "output_type": "execute_result"
        }
      ],
      "source": [
        "### 3-4-4 KNN\n",
        "from sklearn.neighbors import KNeighborsClassifier\n",
        "\n",
        "# reshape the data for KNN:\n",
        "from sklearn.preprocessing import LabelEncoder, OneHotEncoder\n",
        "# encode class values as integers\n",
        "encoder = LabelEncoder()\n",
        "encoder.fit(y)\n",
        "y_KNN = encoder.transform(y)\n",
        "\n",
        "# Splitting the data into Test and Training set\n",
        "from sklearn.model_selection import train_test_split\n",
        "x_train, x_test, y_train, y_test = train_test_split(x, y_KNN, test_size = 0.1, shuffle = 'TRUE')\n",
        "# feature Scaling /// NORMALIZATION - or - STANDARADIZATION\n",
        "from sklearn.preprocessing import StandardScaler\n",
        "scale_x = StandardScaler()\n",
        "x_train = scale_x.fit_transform(x_train)\n",
        "x_test = scale_x.transform(x_test)\n",
        "\n",
        "# Create your regressor object\n",
        "KNN_model = KNeighborsClassifier() \n",
        "# fit to the training Data\n",
        "KNN_model.fit(x_train , y_train)"
      ]
    },
    {
      "cell_type": "code",
      "execution_count": null,
      "id": "2b87111f",
      "metadata": {
        "id": "2b87111f"
      },
      "outputs": [],
      "source": [
        ""
      ]
    },
    {
      "cell_type": "code",
      "execution_count": null,
      "id": "be12caa3",
      "metadata": {
        "id": "be12caa3",
        "outputId": "2f53b8e6-a1c5-4408-be2b-dcd9752488e8"
      },
      "outputs": [
        {
          "name": "stdout",
          "output_type": "stream",
          "text": [
            "y_test =  [1 2 2 0 1 1]\n",
            "KNN predict= [1 1 2 0 1 1]\n"
          ]
        }
      ],
      "source": [
        "### KNN Prediction\n",
        "print('y_test = ' , y_test)\n",
        "\n",
        "# make prediction\n",
        "KNN_predition = KNN_model.predict(x_test)\n",
        "print(\"KNN predict=\", KNN_predition)"
      ]
    },
    {
      "cell_type": "code",
      "execution_count": null,
      "id": "278e3b9a",
      "metadata": {
        "id": "278e3b9a",
        "outputId": "d35dbc9b-3abd-40b2-ddb5-b937cbc732cf"
      },
      "outputs": [
        {
          "name": "stdout",
          "output_type": "stream",
          "text": [
            "[[6 0 1]\n",
            " [0 6 0]\n",
            " [1 0 7]]\n"
          ]
        }
      ],
      "source": [
        "### Evaluation : CONFUSION MATRIX; is the Model Validated on the Test Set ? \n",
        "from sklearn.metrics import confusion_matrix\n",
        "matrix_KNN = confusion_matrix(y_test, KNN_predition)\n",
        "print(matrix_KNN) # finally leads to --> (1510 + 208 --> CORRECT Predictions)\n",
        "#                                    (85 + 197   --> in-CORRECT Predictions)\n",
        "\n",
        "# now : Compute Accuracy using Confusion Matrix \n",
        "##accuracy_conf_m = (1510 + 208)/ 2000\n",
        "##print(accuracy_conf_m)  # accuracy_conf_m = 86 % ; which is Equal to Model Accuracy --> Valideted !"
      ]
    },
    {
      "cell_type": "code",
      "execution_count": null,
      "id": "03123d95",
      "metadata": {
        "id": "03123d95",
        "outputId": "b074cdf1-ecd6-42d0-da89-4f58a2439597"
      },
      "outputs": [
        {
          "data": {
            "text/plain": [
              "Text(24.0, 0.5, 'Predicted Class')"
            ]
          },
          "execution_count": 114,
          "metadata": {},
          "output_type": "execute_result"
        },
        {
          "data": {
            "image/png": "[encoded data removed]",
            "text/plain": [
              "<Figure size 360x216 with 2 Axes>"
            ]
          },
          "metadata": {
            "needs_background": "light"
          },
          "output_type": "display_data"
        }
      ],
      "source": [
        "### Plot Confusion Matrix - KNN\n",
        "import seaborn as sn\n",
        "import pandas as pd\n",
        "import matplotlib.pyplot as plt\n",
        "array = matrix_KNN\n",
        "\n",
        "df_cm = pd.DataFrame(array, index = [i for i in \"ABC\"],\n",
        "                     columns = [i for i in \"ABC\"])\n",
        "plt.figure(figsize = (5,3))\n",
        "sn.heatmap(df_cm, annot=True)\n",
        "plt.xlabel('TRUE Class')\n",
        "plt.ylabel('Predicted Class') # TP(1,1), FP(1,2), FN(2,1), TN(2,2) ;Acc=(TP+TN)/(TP+TN+FP+FN)"
      ]
    },
    {
      "cell_type": "code",
      "execution_count": null,
      "id": "4fa354cd",
      "metadata": {
        "id": "4fa354cd",
        "outputId": "876c7bd2-ac25-4bad-b75e-3bb86c94c25a"
      },
      "outputs": [
        {
          "name": "stdout",
          "output_type": "stream",
          "text": [
            "KNN Classification Report:\n",
            "              precision    recall  f1-score   support\n",
            "\n",
            "           0       1.00      0.86      0.92         7\n",
            "           1       0.71      1.00      0.83         5\n",
            "           2       0.80      0.67      0.73         6\n",
            "\n",
            "    accuracy                           0.83        18\n",
            "   macro avg       0.84      0.84      0.83        18\n",
            "weighted avg       0.85      0.83      0.83        18\n",
            "\n",
            "KNN Accuracy: 0.8333333333333334\n"
          ]
        }
      ],
      "source": [
        "from sklearn.metrics import classification_report, confusion_matrix, accuracy_score\n",
        "result1 = classification_report(y_test, KNN_predition)\n",
        "print('KNN Classification Report:')\n",
        "print (result1)\n",
        "result2 = accuracy_score(y_test,KNN_predition)\n",
        "print('KNN Accuracy:',result2)"
      ]
    },
    {
      "cell_type": "code",
      "execution_count": null,
      "id": "0611029c",
      "metadata": {
        "id": "0611029c"
      },
      "outputs": [],
      "source": [
        "### 4 Visualisation\n",
        "# 4-2 Test set \n",
        "import matplotlib.pyplot as plt\n",
        "from matplotlib.colors import ListedColormap\n",
        "X_set, Y_set = x_test, y_test\n",
        "X1, X2 = np.meshgrid(np.arange(start=X_set[:,0].min() - 1, stop=X_set[:,0].max() + 1, step=0.01 ),\n",
        "                     np.arange(start=X_set[:,0].min() - 1, stop=X_set[:,0].max() + 1, step=0.01 ))\n",
        "#X1.shape[1] = 12\n",
        "plt.contourf(X1, X2, SVM_model.predict(np.array([X1.ravel(), X2.ravel()]).T).reshape(X1.shape),\n",
        "             alpha = 0.75, cmap = ListedColormap(('red', 'green')))\n",
        "plt.xlim(X1.min(), X1.max())\n",
        "plt.ylim(X1.min(), X1.max())\n",
        "for i,j in enumerate(np.unique(Y_set)):\n",
        "    plt.scatter(X_set[Y_set == j, 0], X_set[Y_set == j, 1],\n",
        "               c = ListedColormap(('red', 'green'))(i), label = j)\n",
        "plt.title('SVM Model (Test Set)')\n",
        "plt.xlabel('X11')\n",
        "plt.ylabel('Y11')\n",
        "plt.legend()\n",
        "plt.show()"
      ]
    },
    {
      "cell_type": "code",
      "execution_count": null,
      "id": "3f29b630",
      "metadata": {
        "id": "3f29b630",
        "outputId": "cdc468c4-9e35-480c-f288-0d3094974eb9"
      },
      "outputs": [
        {
          "data": {
            "text/plain": [
              "array([[0.5947331 , 0.18710706, 0.21815981]], dtype=float32)"
            ]
          },
          "execution_count": 160,
          "metadata": {},
          "output_type": "execute_result"
        }
      ],
      "source": [
        "### prediction for dripping;  Squeezing 2, Jetting 1, Dripping 0\n",
        "# Matlloooob : [0.25, 2, 19.25 miu,59.2, 5 XXXt, 0.120 XXXd, 80 XXXf,3.5 XXXca,0.003378 XXXre, 0.125 qr,2 XXXmiur, 20XXXca*d]\n",
        "x_pred = [[0.25 , 2 ,119.5,59.20,3 ,0.114,80 ,9.958333333, 0.004184100418,0.125,2.018581081,1.13525]]\n",
        "from sklearn.preprocessing import StandardScaler\n",
        "scale_x = StandardScaler()\n",
        "x_pred = scale_x.fit_transform(x_pred)\n",
        "\n",
        "classifier.predict(x_pred)\n",
        "#SVM_model.predict(x_pred)\n",
        "#RF_model.predict(x_pred)\n",
        "#KNN_model.predict(x_pred)"
      ]
    },
    {
      "cell_type": "code",
      "execution_count": null,
      "id": "c4adb715",
      "metadata": {
        "id": "c4adb715",
        "outputId": "0767de6a-ea7a-418c-eb34-65db2779b5fe"
      },
      "outputs": [
        {
          "data": {
            "text/plain": [
              "array([2])"
            ]
          },
          "execution_count": 177,
          "metadata": {},
          "output_type": "execute_result"
        }
      ],
      "source": [
        "### prediction for sqz;  Squeezing 2, Jetting 1, Dripping 0\n",
        "\n",
        "x_pred2 = [[0.05, 2 ,119.5,59.20,3 ,0.450,7.01 ,1.991666667,0.0008368200837,0.025,2.018581081,0.89625]]\n",
        "from sklearn.preprocessing import StandardScaler\n",
        "scale_x = StandardScaler()\n",
        "x_pred2 = scale_x.fit_transform(x_pred2)\n",
        "\n",
        "#classifier.predict(x_pred2)\n",
        "SVM_model.predict(x_pred2)\n",
        "#RF_model.predict(x_pred2)\n",
        "#KNN_model.predict(x_pred2)"
      ]
    }
  ],
  "metadata": {
    "kernelspec": {
      "display_name": "Python 3",
      "language": "python",
      "name": "python3"
    },
    "language_info": {
      "codemirror_mode": {
        "name": "ipython",
        "version": 3
      },
      "file_extension": ".py",
      "mimetype": "text/x-python",
      "name": "python",
      "nbconvert_exporter": "python",
      "pygments_lexer": "ipython3",
      "version": "3.8.8"
    },
    "colab": {
      "name": "A to Z STAR - MSc THESIS -Classification for Regime- powered by PROCESSED COMSOL data - All 3 Methods - Final Project.ipynb",
      "provenance": [],
      "include_colab_link": true
    }
  },
  "nbformat": 4,
  "nbformat_minor": 5
}