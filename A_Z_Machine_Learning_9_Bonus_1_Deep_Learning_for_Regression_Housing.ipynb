{
  "cells": [
    {
      "cell_type": "markdown",
      "metadata": {
        "id": "view-in-github",
        "colab_type": "text"
      },
      "source": [
        "<a href=\"https://colab.research.google.com/github/MahdiZakipour/from-Colaboratory/blob/main/A_Z_Machine_Learning_9_Bonus_1_Deep_Learning_for_Regression_Housing.ipynb\" target=\"_parent\"><img src=\"https://colab.research.google.com/assets/colab-badge.svg\" alt=\"Open In Colab\"/></a>"
      ]
    },
    {
      "cell_type": "code",
      "execution_count": null,
      "id": "ba5bc075",
      "metadata": {
        "id": "ba5bc075",
        "outputId": "6b3801b4-fc33-44ac-aafd-d2ecabe57aab"
      },
      "outputs": [
        {
          "data": {
            "text/plain": [
              "'D:\\\\Learning\\\\Deep Learning A-Z course - my files\\\\Section 8 Deep Learning\\\\Deep Learning for Regression - Housing'"
            ]
          },
          "execution_count": 1,
          "metadata": {},
          "output_type": "execute_result"
        }
      ],
      "source": [
        "# show working directory\n",
        "import os\n",
        "#os.getcwd()\n",
        "os.chdir('D:\\Learning\\Deep Learning A-Z course - my files\\Section 8 Deep Learning\\Deep Learning for Regression - Housing')\n",
        "os.getcwd()"
      ]
    },
    {
      "cell_type": "code",
      "execution_count": null,
      "id": "c151e7b3",
      "metadata": {
        "id": "c151e7b3"
      },
      "outputs": [],
      "source": [
        "import pandas\n",
        "from keras.models import Sequential\n",
        "from keras.layers import Dense\n",
        "from keras.wrappers.scikit_learn import KerasRegressor\n",
        "from sklearn.model_selection import cross_val_score\n",
        "from sklearn.model_selection import KFold\n",
        "from sklearn.preprocessing import StandardScaler\n",
        "from sklearn.pipeline import Pipeline"
      ]
    },
    {
      "cell_type": "code",
      "execution_count": null,
      "id": "d7cb5228",
      "metadata": {
        "id": "d7cb5228",
        "outputId": "e3767e65-fede-4afd-919b-b9161d059c7c"
      },
      "outputs": [
        {
          "data": {
            "text/html": [
              "<div>\n",
              "<style scoped>\n",
              "    .dataframe tbody tr th:only-of-type {\n",
              "        vertical-align: middle;\n",
              "    }\n",
              "\n",
              "    .dataframe tbody tr th {\n",
              "        vertical-align: top;\n",
              "    }\n",
              "\n",
              "    .dataframe thead th {\n",
              "        text-align: right;\n",
              "    }\n",
              "</style>\n",
              "<table border=\"1\" class=\"dataframe\">\n",
              "  <thead>\n",
              "    <tr style=\"text-align: right;\">\n",
              "      <th></th>\n",
              "      <th>0</th>\n",
              "      <th>1</th>\n",
              "      <th>2</th>\n",
              "      <th>3</th>\n",
              "      <th>4</th>\n",
              "      <th>5</th>\n",
              "      <th>6</th>\n",
              "      <th>7</th>\n",
              "      <th>8</th>\n",
              "      <th>9</th>\n",
              "      <th>10</th>\n",
              "      <th>11</th>\n",
              "      <th>12</th>\n",
              "      <th>13</th>\n",
              "    </tr>\n",
              "  </thead>\n",
              "  <tbody>\n",
              "    <tr>\n",
              "      <th>0</th>\n",
              "      <td>0.00632</td>\n",
              "      <td>18.0</td>\n",
              "      <td>2.31</td>\n",
              "      <td>0</td>\n",
              "      <td>0.538</td>\n",
              "      <td>6.575</td>\n",
              "      <td>65.2</td>\n",
              "      <td>4.0900</td>\n",
              "      <td>1</td>\n",
              "      <td>296.0</td>\n",
              "      <td>15.3</td>\n",
              "      <td>396.90</td>\n",
              "      <td>4.98</td>\n",
              "      <td>24.0</td>\n",
              "    </tr>\n",
              "    <tr>\n",
              "      <th>1</th>\n",
              "      <td>0.02731</td>\n",
              "      <td>0.0</td>\n",
              "      <td>7.07</td>\n",
              "      <td>0</td>\n",
              "      <td>0.469</td>\n",
              "      <td>6.421</td>\n",
              "      <td>78.9</td>\n",
              "      <td>4.9671</td>\n",
              "      <td>2</td>\n",
              "      <td>242.0</td>\n",
              "      <td>17.8</td>\n",
              "      <td>396.90</td>\n",
              "      <td>9.14</td>\n",
              "      <td>21.6</td>\n",
              "    </tr>\n",
              "    <tr>\n",
              "      <th>2</th>\n",
              "      <td>0.02729</td>\n",
              "      <td>0.0</td>\n",
              "      <td>7.07</td>\n",
              "      <td>0</td>\n",
              "      <td>0.469</td>\n",
              "      <td>7.185</td>\n",
              "      <td>61.1</td>\n",
              "      <td>4.9671</td>\n",
              "      <td>2</td>\n",
              "      <td>242.0</td>\n",
              "      <td>17.8</td>\n",
              "      <td>392.83</td>\n",
              "      <td>4.03</td>\n",
              "      <td>34.7</td>\n",
              "    </tr>\n",
              "    <tr>\n",
              "      <th>3</th>\n",
              "      <td>0.03237</td>\n",
              "      <td>0.0</td>\n",
              "      <td>2.18</td>\n",
              "      <td>0</td>\n",
              "      <td>0.458</td>\n",
              "      <td>6.998</td>\n",
              "      <td>45.8</td>\n",
              "      <td>6.0622</td>\n",
              "      <td>3</td>\n",
              "      <td>222.0</td>\n",
              "      <td>18.7</td>\n",
              "      <td>394.63</td>\n",
              "      <td>2.94</td>\n",
              "      <td>33.4</td>\n",
              "    </tr>\n",
              "    <tr>\n",
              "      <th>4</th>\n",
              "      <td>0.06905</td>\n",
              "      <td>0.0</td>\n",
              "      <td>2.18</td>\n",
              "      <td>0</td>\n",
              "      <td>0.458</td>\n",
              "      <td>7.147</td>\n",
              "      <td>54.2</td>\n",
              "      <td>6.0622</td>\n",
              "      <td>3</td>\n",
              "      <td>222.0</td>\n",
              "      <td>18.7</td>\n",
              "      <td>396.90</td>\n",
              "      <td>5.33</td>\n",
              "      <td>36.2</td>\n",
              "    </tr>\n",
              "  </tbody>\n",
              "</table>\n",
              "</div>"
            ],
            "text/plain": [
              "        0     1     2   3      4      5     6       7   8      9     10  \\\n",
              "0  0.00632  18.0  2.31   0  0.538  6.575  65.2  4.0900   1  296.0  15.3   \n",
              "1  0.02731   0.0  7.07   0  0.469  6.421  78.9  4.9671   2  242.0  17.8   \n",
              "2  0.02729   0.0  7.07   0  0.469  7.185  61.1  4.9671   2  242.0  17.8   \n",
              "3  0.03237   0.0  2.18   0  0.458  6.998  45.8  6.0622   3  222.0  18.7   \n",
              "4  0.06905   0.0  2.18   0  0.458  7.147  54.2  6.0622   3  222.0  18.7   \n",
              "\n",
              "       11    12    13  \n",
              "0  396.90  4.98  24.0  \n",
              "1  396.90  9.14  21.6  \n",
              "2  392.83  4.03  34.7  \n",
              "3  394.63  2.94  33.4  \n",
              "4  396.90  5.33  36.2  "
            ]
          },
          "execution_count": 3,
          "metadata": {},
          "output_type": "execute_result"
        }
      ],
      "source": [
        "# Load the Dataset\n",
        "dataframe = pandas.read_csv(\"housing.csv\", delim_whitespace=True, header=None)\n",
        "dataset = dataframe.values\n",
        "\n",
        "dataframe.head()"
      ]
    },
    {
      "cell_type": "code",
      "execution_count": null,
      "id": "26d5b312",
      "metadata": {
        "id": "26d5b312"
      },
      "outputs": [],
      "source": [
        "# split into input (X) and output (Y) variables\n",
        "X = dataset[:,0:13]\n",
        "Y = dataset[:,13]"
      ]
    },
    {
      "cell_type": "code",
      "execution_count": null,
      "id": "6dee343f",
      "metadata": {
        "id": "6dee343f"
      },
      "outputs": [],
      "source": [
        "# define base model\n",
        "def baseline_model():\n",
        "    # create model\n",
        "    model = Sequential()\n",
        "    model.add(Dense(13, input_dim=13, kernel_initializer='normal', activation='relu'))\n",
        "    model.add(Dense(1, kernel_initializer='normal'))\n",
        "    # Compile model\n",
        "    model.compile(loss='mean_squared_error', optimizer='adam', metrics = ['accuracy'])\n",
        "    return model"
      ]
    },
    {
      "cell_type": "code",
      "execution_count": null,
      "id": "5f146bf7",
      "metadata": {
        "id": "5f146bf7",
        "outputId": "e3fe04ed-fc1b-4b6f-b70c-e4a459018f70"
      },
      "outputs": [
        {
          "data": {
            "text/plain": [
              "1"
            ]
          },
          "execution_count": 13,
          "metadata": {},
          "output_type": "execute_result"
        }
      ],
      "source": [
        "1"
      ]
    },
    {
      "cell_type": "code",
      "execution_count": null,
      "id": "5da97250",
      "metadata": {
        "id": "5da97250",
        "outputId": "de86fa0a-7943-4f89-e45a-c1ebae3987e3"
      },
      "outputs": [
        {
          "name": "stdout",
          "output_type": "stream",
          "text": [
            "Baseline: -32.87 (25.95) MSE\n"
          ]
        }
      ],
      "source": [
        "# evaluate model\n",
        "estimator = KerasRegressor(build_fn=baseline_model, epochs=100, batch_size=5, verbose=0)\n",
        "kfold = KFold(n_splits=10)\n",
        "results = cross_val_score(estimator, X, Y, cv=kfold)\n",
        "print(\"Baseline: %.2f (%.2f) MSE\" % (results.mean(), results.std()))"
      ]
    },
    {
      "cell_type": "code",
      "execution_count": null,
      "id": "62234c64",
      "metadata": {
        "id": "62234c64",
        "outputId": "2d6fe083-f832-4eb1-d2bf-423ce96b3ee9"
      },
      "outputs": [
        {
          "name": "stdout",
          "output_type": "stream",
          "text": [
            "Standardized: -29.03 (26.97) MSE\n"
          ]
        }
      ],
      "source": [
        "# evaluate model with standardized dataset\n",
        "estimators = []\n",
        "estimators.append(('standardize', StandardScaler()))\n",
        "estimators.append(('mlp', KerasRegressor(build_fn=baseline_model, epochs=50, batch_size=5, verbose=0)))\n",
        "pipeline = Pipeline(estimators)\n",
        "kfold = KFold(n_splits=10)\n",
        "results = cross_val_score(pipeline, X, Y, cv=kfold)\n",
        "print(\"Standardized: %.2f (%.2f) MSE\" % (results.mean(), results.std()))"
      ]
    },
    {
      "cell_type": "code",
      "execution_count": null,
      "id": "7d7e7d07",
      "metadata": {
        "id": "7d7e7d07"
      },
      "outputs": [],
      "source": [
        "### from This section, from another example :\n",
        "# https://github.com/Prajwal10031999/House-Price-Prediction-with-ANN/blob/main/house-price-prediction-with-ann.ipynb\n",
        "\n",
        "from keras.models import Sequential\n",
        "from keras.layers import BatchNormalization  #####\n",
        "from keras.layers import Dense, Activation\n",
        "from keras.callbacks import ModelCheckpoint #we can control our model if going well during validation part or not\n",
        "from tensorflow import keras\n",
        "from tensorflow.keras import layers\n",
        "from keras.optimizers import Adam\n",
        "import tensorflow as tf\n",
        "\n",
        "\n",
        "\n",
        "model = Sequential()\n",
        "model.add(Dense(units=256, activation='linear'))\n",
        "model.add(BatchNormalization())\n",
        "model.add(Dense(units=128, activation='linear'))\n",
        "model.add(BatchNormalization())\n",
        "model.add(Dense(units=64, activation='linear'))\n",
        "model.add(BatchNormalization())\n",
        "model.add(Dense(units=32, activation='linear'))\n",
        "model.add(BatchNormalization())\n",
        "model.add(Dense(units=16, activation='linear'))\n",
        "model.add(BatchNormalization())\n",
        "model.add(Dense(units=8, activation='linear'))\n",
        "model.add(BatchNormalization())\n",
        "model.add(Dense(units=1, activation='linear'))"
      ]
    },
    {
      "cell_type": "code",
      "execution_count": null,
      "id": "c54a0b66",
      "metadata": {
        "id": "c54a0b66"
      },
      "outputs": [],
      "source": [
        "model.compile(loss='mean_squared_logarithmic_error', optimizer='adam', metrics = ['accuracy'])\n",
        "model.fit(X, Y, epochs=25, batch_size=64)\n",
        "model.predict(X_test, batch_size=64)"
      ]
    },
    {
      "cell_type": "code",
      "execution_count": null,
      "id": "56c54c3b",
      "metadata": {
        "id": "56c54c3b",
        "outputId": "1d92396d-e47d-4afa-b204-82e5daec267b"
      },
      "outputs": [
        {
          "name": "stdout",
          "output_type": "stream",
          "text": [
            "Epoch 1/25\n",
            "8/8 [==============================] - 0s 3ms/step - loss: 3.2185 - accuracy: 0.0000e+00\n",
            "Epoch 2/25\n",
            "8/8 [==============================] - 0s 3ms/step - loss: 3.1857 - accuracy: 0.0000e+00\n",
            "Epoch 3/25\n",
            "8/8 [==============================] - 0s 3ms/step - loss: 3.1720 - accuracy: 0.0000e+00\n",
            "Epoch 4/25\n",
            "8/8 [==============================] - 0s 3ms/step - loss: 3.0647 - accuracy: 0.0000e+00\n",
            "Epoch 5/25\n",
            "8/8 [==============================] - 0s 3ms/step - loss: 3.0693 - accuracy: 0.0000e+00\n",
            "Epoch 6/25\n",
            "8/8 [==============================] - 0s 3ms/step - loss: 3.0044 - accuracy: 0.0000e+00\n",
            "Epoch 7/25\n",
            "8/8 [==============================] - 0s 3ms/step - loss: 2.9783 - accuracy: 0.0000e+00\n",
            "Epoch 8/25\n",
            "8/8 [==============================] - 0s 3ms/step - loss: 2.9332 - accuracy: 0.0000e+00\n",
            "Epoch 9/25\n",
            "8/8 [==============================] - 0s 3ms/step - loss: 2.9161 - accuracy: 0.0000e+00\n",
            "Epoch 10/25\n",
            "8/8 [==============================] - 0s 3ms/step - loss: 2.8938 - accuracy: 0.0000e+00\n",
            "Epoch 11/25\n",
            "8/8 [==============================] - 0s 3ms/step - loss: 2.8816 - accuracy: 0.0000e+00\n",
            "Epoch 12/25\n",
            "8/8 [==============================] - 0s 3ms/step - loss: 2.8646 - accuracy: 0.0000e+00\n",
            "Epoch 13/25\n",
            "8/8 [==============================] - 0s 3ms/step - loss: 2.8158 - accuracy: 0.0000e+00\n",
            "Epoch 14/25\n",
            "8/8 [==============================] - 0s 3ms/step - loss: 2.8050 - accuracy: 0.0000e+00\n",
            "Epoch 15/25\n",
            "8/8 [==============================] - 0s 3ms/step - loss: 2.7734 - accuracy: 0.0000e+00\n",
            "Epoch 16/25\n",
            "8/8 [==============================] - 0s 3ms/step - loss: 2.7566 - accuracy: 0.0000e+00\n",
            "Epoch 17/25\n",
            "8/8 [==============================] - 0s 3ms/step - loss: 2.7397 - accuracy: 0.0000e+00\n",
            "Epoch 18/25\n",
            "8/8 [==============================] - 0s 3ms/step - loss: 2.7113 - accuracy: 0.0000e+00\n",
            "Epoch 19/25\n",
            "8/8 [==============================] - 0s 3ms/step - loss: 2.6869 - accuracy: 0.0000e+00\n",
            "Epoch 20/25\n",
            "8/8 [==============================] - 0s 3ms/step - loss: 2.6688 - accuracy: 0.0000e+00\n",
            "Epoch 21/25\n",
            "8/8 [==============================] - 0s 3ms/step - loss: 2.6837 - accuracy: 0.0000e+00\n",
            "Epoch 22/25\n",
            "8/8 [==============================] - 0s 3ms/step - loss: 2.6692 - accuracy: 0.0000e+00\n",
            "Epoch 23/25\n",
            "8/8 [==============================] - 0s 3ms/step - loss: 2.6319 - accuracy: 0.0000e+00\n",
            "Epoch 24/25\n",
            "8/8 [==============================] - 0s 3ms/step - loss: 2.6498 - accuracy: 0.0000e+00\n",
            "Epoch 25/25\n",
            "8/8 [==============================] - 0s 2ms/step - loss: 2.6047 - accuracy: 0.0000e+00\n"
          ]
        },
        {
          "data": {
            "text/plain": [
              "<tensorflow.python.keras.callbacks.History at 0x22036710ac0>"
            ]
          },
          "execution_count": 9,
          "metadata": {},
          "output_type": "execute_result"
        }
      ],
      "source": [
        ""
      ]
    },
    {
      "cell_type": "code",
      "execution_count": null,
      "id": "7f8275cc",
      "metadata": {
        "id": "7f8275cc"
      },
      "outputs": [],
      "source": [
        ""
      ]
    },
    {
      "cell_type": "code",
      "execution_count": null,
      "id": "b99f7a5c",
      "metadata": {
        "id": "b99f7a5c"
      },
      "outputs": [],
      "source": [
        ""
      ]
    },
    {
      "cell_type": "code",
      "execution_count": null,
      "id": "8a38930a",
      "metadata": {
        "id": "8a38930a"
      },
      "outputs": [],
      "source": [
        ""
      ]
    },
    {
      "cell_type": "code",
      "execution_count": null,
      "id": "482a4026",
      "metadata": {
        "id": "482a4026"
      },
      "outputs": [],
      "source": [
        ""
      ]
    }
  ],
  "metadata": {
    "kernelspec": {
      "display_name": "Python 3",
      "language": "python",
      "name": "python3"
    },
    "language_info": {
      "codemirror_mode": {
        "name": "ipython",
        "version": 3
      },
      "file_extension": ".py",
      "mimetype": "text/x-python",
      "name": "python",
      "nbconvert_exporter": "python",
      "pygments_lexer": "ipython3",
      "version": "3.8.8"
    },
    "colab": {
      "name": "A-Z Machine Learning - 9 - Bonus 1 - Deep Learning for Regression - Housing.ipynb",
      "provenance": [],
      "include_colab_link": true
    }
  },
  "nbformat": 4,
  "nbformat_minor": 5
}